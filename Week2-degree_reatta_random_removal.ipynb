{
 "cells": [
  {
   "cell_type": "code",
   "execution_count": 1,
   "metadata": {},
   "outputs": [],
   "source": [
    "import networkx as nx\n",
    "from random import uniform, random, choice, sample, randint\n",
    "import networkx.algorithms.community as nx_comm\n",
    "import matplotlib.pyplot as plt\n",
    "import random\n",
    "import csv "
   ]
  },
  {
   "cell_type": "code",
   "execution_count": 2,
   "metadata": {},
   "outputs": [
    {
     "name": "stdout",
     "output_type": "stream",
     "text": [
      "The original clustering coefficient 0.6055467186200876\n",
      "The original shortest path is  3.6925068496963913\n"
     ]
    }
   ],
   "source": [
    "G=nx.read_edgelist(\"C:\\\\Users\\\\prash\\\\OneDrive\\\\Desktop\\\\CS599\\\\facebook_combined.txt\")\n",
    "\n",
    "\n",
    "print(\"The original clustering coefficient\",nx.average_clustering(G))\n",
    "\n",
    "\n",
    "print(\"The original shortest path is \",nx.average_shortest_path_length(G))"
   ]
  },
  {
   "cell_type": "code",
   "execution_count": 3,
   "metadata": {},
   "outputs": [
    {
     "name": "stdout",
     "output_type": "stream",
     "text": [
      "88234\n"
     ]
    }
   ],
   "source": [
    "original_edges=G.number_of_edges()\n",
    "print(original_edges)"
   ]
  },
  {
   "cell_type": "code",
   "execution_count": 4,
   "metadata": {},
   "outputs": [],
   "source": [
    "neighbors_set=set()\n",
    "removed_nodes=set()"
   ]
  },
  {
   "cell_type": "code",
   "execution_count": 5,
   "metadata": {},
   "outputs": [],
   "source": [
    "G1=G.copy()\n",
    "\n",
    "#list of tuples where the tuple is having (node and degree)\n",
    "#removing the 1% of nodes randomly\n",
    "for i in range(int(0.01*G1.number_of_nodes())):\n",
    "    a=random.choice(list(G1.nodes()))\n",
    "    for s in G1.neighbors(a):\n",
    "        if s not in neighbors_set:\n",
    "            neighbors_set.add(s)\n",
    "    removed_nodes.add(a)\n",
    "    G1.remove_node(a)\n",
    "\n",
    "lost_edges=original_edges-(nx.number_of_edges(G1))\n",
    "\n",
    "\n",
    "remaining_nodes=neighbors_set-removed_nodes\n"
   ]
  },
  {
   "cell_type": "code",
   "execution_count": 6,
   "metadata": {},
   "outputs": [
    {
     "name": "stdout",
     "output_type": "stream",
     "text": [
      "88234\n",
      "clustering coefficient after links attached on degree basis 0.58701853971214\n",
      "shortest path is  3.3256824711430486\n"
     ]
    }
   ],
   "source": [
    "while lost_edges:\n",
    "    #select the nodes randomly from the list\n",
    "    a=random.choice(list(remaining_nodes))\n",
    "    b=random.choice(list(remaining_nodes))\n",
    "    #select two different nodes if they don't have an edge.\n",
    "    if a!=b and G1.has_edge(a,b)!=1:\n",
    "        #add edge\n",
    "        G1.add_edge(a,b)\n",
    "        lost_edges-=1 \n",
    "#we added the lost edges\n",
    "print(nx.number_of_edges(G1))\n",
    "\n",
    "\n",
    "\n",
    "print(\"clustering coefficient after links attached on degree basis\",nx.average_clustering(G1))\n",
    "\n",
    "\n",
    "\n",
    "print(\"shortest path is \",nx.average_shortest_path_length(G1))"
   ]
  },
  {
   "cell_type": "code",
   "execution_count": 7,
   "metadata": {},
   "outputs": [],
   "source": [
    "neighbors_set2=set()\n",
    "removed_nodes2=set()"
   ]
  },
  {
   "cell_type": "code",
   "execution_count": 8,
   "metadata": {},
   "outputs": [],
   "source": [
    "G2=G.copy()\n",
    "\n",
    "#removing the 5% of nodes randomly\n",
    "for i in range(int(0.05*G2.number_of_nodes())):\n",
    "    a=random.choice(list(G2.nodes()))\n",
    "    for s in G2.neighbors(a):\n",
    "        if s not in neighbors_set2:\n",
    "            neighbors_set2.add(s)\n",
    "    removed_nodes2.add(a)\n",
    "    G2.remove_node(a)\n",
    "\n",
    "lost_edges2=original_edges-(nx.number_of_edges(G2))\n",
    "\n",
    "remaining_nodes2=neighbors_set2-removed_nodes2\n"
   ]
  },
  {
   "cell_type": "code",
   "execution_count": 9,
   "metadata": {},
   "outputs": [
    {
     "name": "stdout",
     "output_type": "stream",
     "text": [
      "88234\n",
      "clustering coefficient after links attached on degree basis 0.48373181410809185\n",
      "shortest path is  2.878300924203774\n"
     ]
    }
   ],
   "source": [
    "while lost_edges2:\n",
    "    a=random.choice(list(remaining_nodes2))\n",
    "    b=random.choice(list(remaining_nodes2))\n",
    "    if a!=b and G2.has_edge(a,b)!=1:\n",
    "        G2.add_edge(a,b)\n",
    "        lost_edges2-=1\n",
    "print(nx.number_of_edges(G2))\n",
    "\n",
    "\n",
    "\n",
    "print(\"clustering coefficient after links attached on degree basis\",nx.average_clustering(G2))\n",
    "\n",
    "print(\"shortest path is \",nx.average_shortest_path_length(G2))"
   ]
  },
  {
   "cell_type": "code",
   "execution_count": 10,
   "metadata": {},
   "outputs": [],
   "source": [
    "neighbors_set3=set()\n",
    "removed_nodes3=set()"
   ]
  },
  {
   "cell_type": "code",
   "execution_count": 11,
   "metadata": {},
   "outputs": [],
   "source": [
    "G3=G.copy()\n",
    "\n",
    "\n",
    "#removing the 10% of nodes randomly\n",
    "for i in range(int(0.05*G3.number_of_nodes())):\n",
    "    a=random.choice(list(G3.nodes()))\n",
    "    for s in G3.neighbors(a):\n",
    "        if s not in neighbors_set3:\n",
    "            neighbors_set3.add(s)\n",
    "    removed_nodes3.add(a)\n",
    "    G3.remove_node(a)\n",
    "\n",
    "lost_edges3=original_edges-(nx.number_of_edges(G3))\n",
    "\n",
    "remaining_nodes3=neighbors_set3-removed_nodes3"
   ]
  },
  {
   "cell_type": "code",
   "execution_count": 12,
   "metadata": {},
   "outputs": [
    {
     "name": "stdout",
     "output_type": "stream",
     "text": [
      "clustering coefficient after links attached on degree basis 0.48327589126780524\n",
      "shortest path is  2.8713663062121197\n"
     ]
    }
   ],
   "source": [
    "while lost_edges3:\n",
    "    a=random.choice(list(remaining_nodes3))\n",
    "    b=random.choice(list(remaining_nodes3))\n",
    "    if a!=b and G3.has_edge(a,b)!=1:\n",
    "        G3.add_edge(a,b)\n",
    "        lost_edges3-=1\n",
    "print(\"clustering coefficient after links attached on degree basis\",nx.average_clustering(G3))\n",
    "\n",
    "\n",
    "\n",
    "print(\"shortest path is \",nx.average_shortest_path_length(G3))"
   ]
  },
  {
   "cell_type": "code",
   "execution_count": 13,
   "metadata": {},
   "outputs": [],
   "source": [
    "neighbors_set4=set()\n",
    "removed_nodes4=set()"
   ]
  },
  {
   "cell_type": "code",
   "execution_count": 14,
   "metadata": {},
   "outputs": [],
   "source": [
    "G4=G.copy()\n",
    "\n",
    "#removing the 25% of nodes randomly\n",
    "\n",
    "for i in range(int(0.25*G4.number_of_nodes())):\n",
    "    a=random.choice(list(G4.nodes()))\n",
    "    for s in G4.neighbors(a):\n",
    "        if s not in neighbors_set4:\n",
    "            neighbors_set4.add(s)\n",
    "    removed_nodes4.add(a)\n",
    "    G4.remove_node(a)\n",
    "\n",
    "lost_edges4=original_edges-(nx.number_of_edges(G4))\n",
    "\n",
    "remaining_nodes4=neighbors_set4-removed_nodes4"
   ]
  },
  {
   "cell_type": "code",
   "execution_count": 15,
   "metadata": {},
   "outputs": [
    {
     "name": "stdout",
     "output_type": "stream",
     "text": [
      "clustering coefficient after links attached on degree basis 0.21609737144590288\n",
      "shortest path is  2.419487528151957\n"
     ]
    }
   ],
   "source": [
    "while lost_edges4:\n",
    "    a=random.choice(list(remaining_nodes4))\n",
    "    b=random.choice(list(remaining_nodes4))\n",
    "    if a!=b and G4.has_edge(a,b)!=1:\n",
    "        G4.add_edge(a,b)\n",
    "        lost_edges4-=1\n",
    "\n",
    "print(\"clustering coefficient after links attached on degree basis\",nx.average_clustering(G4))\n",
    "\n",
    "\n",
    "print(\"shortest path is \",nx.average_shortest_path_length(G4))"
   ]
  },
  {
   "cell_type": "code",
   "execution_count": 16,
   "metadata": {},
   "outputs": [],
   "source": [
    "neighbors_set5=set()\n",
    "removed_nodes5=set()"
   ]
  },
  {
   "cell_type": "code",
   "execution_count": 17,
   "metadata": {},
   "outputs": [],
   "source": [
    "G5=G.copy()\n",
    "#removing the 60% of nodes randomly\n",
    "for i in range(int(0.60*G5.number_of_nodes())):\n",
    "    G5.remove_node(random.choice(list(G5.nodes())))\n",
    "\n",
    "lost_edges5=original_edges-(nx.number_of_edges(G5))\n",
    "\n",
    "remaining_nodes5=neighbors_set5-removed_nodes5"
   ]
  },
  {
   "cell_type": "code",
   "execution_count": 18,
   "metadata": {},
   "outputs": [
    {
     "ename": "IndexError",
     "evalue": "Cannot choose from an empty sequence",
     "output_type": "error",
     "traceback": [
      "\u001b[1;31m---------------------------------------------------------------------------\u001b[0m",
      "\u001b[1;31mIndexError\u001b[0m                                Traceback (most recent call last)",
      "Input \u001b[1;32mIn [18]\u001b[0m, in \u001b[0;36m<cell line: 1>\u001b[1;34m()\u001b[0m\n\u001b[0;32m      1\u001b[0m \u001b[38;5;28;01mwhile\u001b[39;00m lost_edges5:\n\u001b[1;32m----> 2\u001b[0m     a\u001b[38;5;241m=\u001b[39m\u001b[43mrandom\u001b[49m\u001b[38;5;241;43m.\u001b[39;49m\u001b[43mchoice\u001b[49m\u001b[43m(\u001b[49m\u001b[38;5;28;43mlist\u001b[39;49m\u001b[43m(\u001b[49m\u001b[43mremaining_nodes5\u001b[49m\u001b[43m)\u001b[49m\u001b[43m)\u001b[49m\n\u001b[0;32m      3\u001b[0m     b\u001b[38;5;241m=\u001b[39mrandom\u001b[38;5;241m.\u001b[39mchoice(\u001b[38;5;28mlist\u001b[39m(remaining_nodes5))\n\u001b[0;32m      4\u001b[0m     \u001b[38;5;28;01mif\u001b[39;00m a\u001b[38;5;241m!=\u001b[39mb \u001b[38;5;129;01mand\u001b[39;00m G5\u001b[38;5;241m.\u001b[39mhas_edge(a,b)\u001b[38;5;241m!=\u001b[39m\u001b[38;5;241m1\u001b[39m:\n",
      "File \u001b[1;32m~\\anaconda3\\lib\\random.py:290\u001b[0m, in \u001b[0;36mRandom.choice\u001b[1;34m(self, seq)\u001b[0m\n\u001b[0;32m    288\u001b[0m     i \u001b[38;5;241m=\u001b[39m \u001b[38;5;28mself\u001b[39m\u001b[38;5;241m.\u001b[39m_randbelow(\u001b[38;5;28mlen\u001b[39m(seq))\n\u001b[0;32m    289\u001b[0m \u001b[38;5;28;01mexcept\u001b[39;00m \u001b[38;5;167;01mValueError\u001b[39;00m:\n\u001b[1;32m--> 290\u001b[0m     \u001b[38;5;28;01mraise\u001b[39;00m \u001b[38;5;167;01mIndexError\u001b[39;00m(\u001b[38;5;124m'\u001b[39m\u001b[38;5;124mCannot choose from an empty sequence\u001b[39m\u001b[38;5;124m'\u001b[39m) \u001b[38;5;28;01mfrom\u001b[39;00m \u001b[38;5;28mNone\u001b[39m\n\u001b[0;32m    291\u001b[0m \u001b[38;5;28;01mreturn\u001b[39;00m seq[i]\n",
      "\u001b[1;31mIndexError\u001b[0m: Cannot choose from an empty sequence"
     ]
    }
   ],
   "source": [
    "while lost_edges5:\n",
    "    a=random.choice(list(remaining_nodes5))\n",
    "    b=random.choice(list(remaining_nodes5))\n",
    "    if a!=b and G5.has_edge(a,b)!=1:\n",
    "        G5.add_edge(a,b)\n",
    "        lost_edges5-=1\n",
    "\n",
    "print(\"clustering coefficient after links attached on degree basis\",nx.average_clustering(G5))\n",
    "\n",
    "\n",
    "print(\"shortest path is \",nx.average_shortest_path_length(G5))"
   ]
  },
  {
   "cell_type": "code",
   "execution_count": null,
   "metadata": {},
   "outputs": [],
   "source": []
  }
 ],
 "metadata": {
  "kernelspec": {
   "display_name": "Python 3 (ipykernel)",
   "language": "python",
   "name": "python3"
  },
  "language_info": {
   "codemirror_mode": {
    "name": "ipython",
    "version": 3
   },
   "file_extension": ".py",
   "mimetype": "text/x-python",
   "name": "python",
   "nbconvert_exporter": "python",
   "pygments_lexer": "ipython3",
   "version": "3.8.5"
  }
 },
 "nbformat": 4,
 "nbformat_minor": 4
}
