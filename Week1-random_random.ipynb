{
 "cells": [
  {
   "cell_type": "code",
   "execution_count": 45,
   "metadata": {},
   "outputs": [],
   "source": [
    "import matplotlib.pyplot as plt\n",
    "import networkx as nx\n",
    "import random"
   ]
  },
  {
   "cell_type": "code",
   "execution_count": 46,
   "metadata": {},
   "outputs": [
    {
     "name": "stdout",
     "output_type": "stream",
     "text": [
      "The original clustering coefficient 0.6055467186200876\n",
      "1543\n",
      "clustering coefficient after removal 0.6046789490510212\n"
     ]
    }
   ],
   "source": [
    "G=nx.read_edgelist(\"C:\\\\Users\\\\prash\\\\OneDrive\\\\Desktop\\\\CS599\\\\facebook_combined.txt\")\n",
    "print(\"The original clustering coefficient\",nx.average_clustering(G))\n",
    "G1=G.copy()\n",
    "original_edges=G1.number_of_edges()\n",
    "#removing the 1% of nodes randomly\n",
    "a=int(0.01*G1.number_of_nodes())\n",
    "for i in range(a):\n",
    "    a=random.choice(list(G1.nodes()))\n",
    "    G1.remove_node(a)\n",
    "lost_edges1=original_edges-(G1.number_of_edges())\n",
    "print(lost_edges1)\n",
    "cc1=nx.average_clustering(G1)\n",
    "print(\"clustering coefficient after removal\",cc1)"
   ]
  },
  {
   "cell_type": "code",
   "execution_count": 24,
   "metadata": {},
   "outputs": [
    {
     "name": "stdout",
     "output_type": "stream",
     "text": [
      "88234\n",
      "clustering coefficient after links attached randomly 0.5431879521105074\n"
     ]
    }
   ],
   "source": [
    "#random reattachment\n",
    "while lost_edges1:\n",
    "    #select the nodes randomly from the list\n",
    "    a=random.choice(list(G1.nodes()))\n",
    "    b=random.choice(list(G1.nodes()))\n",
    "    #select two different nodes if they don't have an edge.\n",
    "    if a!=b and G1.has_edge(a,b)!=1:\n",
    "        #we added the lost edges\n",
    "        G1.add_edge(a,b)\n",
    "        lost_edges1-=1 \n",
    "\n",
    "print(nx.number_of_edges(G1))\n",
    "\n",
    "print(\"clustering coefficient after links attached randomly\",nx.average_clustering(G1))"
   ]
  },
  {
   "cell_type": "code",
   "execution_count": 52,
   "metadata": {},
   "outputs": [
    {
     "name": "stdout",
     "output_type": "stream",
     "text": [
      "7701\n",
      "clustering coefficient after removal 0.6079990866381971\n"
     ]
    }
   ],
   "source": [
    "G2=G.copy()\n",
    "#removing five percent nodes randomly\n",
    "five_per=int(0.05*G2.number_of_nodes())\n",
    "original_edges=G2.number_of_edges()\n",
    "for _ in range(five_per):\n",
    "    a=random.choice(list(G2.nodes()))\n",
    "    G2.remove_node(a)\n",
    "lost_edges2=original_edges-(G2.number_of_edges())\n",
    "print(lost_edges2)\n",
    "cc2=nx.average_clustering(G2)\n",
    "print(\"clustering coefficient after removal\",cc2)"
   ]
  },
  {
   "cell_type": "code",
   "execution_count": 48,
   "metadata": {},
   "outputs": [
    {
     "name": "stdout",
     "output_type": "stream",
     "text": [
      "88234\n",
      "clustering coefficient after links added 0.4117132718867605\n"
     ]
    }
   ],
   "source": [
    "#random reattachment\n",
    "while lost_edges2:\n",
    "    a=random.choice(list(G2.nodes()))\n",
    "    b=random.choice(list(G2.nodes()))\n",
    "    if a!=b and G2.has_edge(a,b)!=1:\n",
    "        G2.add_edge(a,b)\n",
    "        lost_edges2-=1\n",
    "print(nx.number_of_edges(G2))\n",
    "print(\"clustering coefficient after links added\",nx.average_clustering(G2))"
   ]
  },
  {
   "cell_type": "code",
   "execution_count": 59,
   "metadata": {},
   "outputs": [
    {
     "name": "stdout",
     "output_type": "stream",
     "text": [
      "16927\n",
      "clustering coefficient after nodes removed 0.6092371011679872\n"
     ]
    }
   ],
   "source": [
    "G3=G.copy()\n",
    "#removing ten percent of nodes randomly\n",
    "ten_per=int(0.1*G3.number_of_nodes())\n",
    "original_edges=G3.number_of_edges()\n",
    "for _ in range(ten_per):\n",
    "    a=random.choice(list(G3.nodes()))\n",
    "    G3.remove_node(a)\n",
    "lost_edges3=original_edges-(G3.number_of_edges())\n",
    "print(lost_edges)\n",
    "cc3=nx.average_clustering(G3)\n",
    "print(\"clustering coefficient after nodes removed\",cc3)"
   ]
  },
  {
   "cell_type": "code",
   "execution_count": 39,
   "metadata": {},
   "outputs": [
    {
     "name": "stdout",
     "output_type": "stream",
     "text": [
      "88234\n",
      "clustering coefficient after links added 0.30179127320984434\n"
     ]
    }
   ],
   "source": [
    "#random reattachment\n",
    "while lost_edges3:\n",
    "    a=random.choice(list(G3.nodes()))\n",
    "    b=random.choice(list(G3.nodes()))\n",
    "    if a!=b and G3.has_edge(a,b)!=1:\n",
    "        G3.add_edge(a,b)\n",
    "        lost_edges3-=1\n",
    "print(nx.number_of_edges(G3))\n",
    "print(\"clustering coefficient after links added\",nx.average_clustering(G3))"
   ]
  },
  {
   "cell_type": "code",
   "execution_count": 60,
   "metadata": {},
   "outputs": [
    {
     "name": "stdout",
     "output_type": "stream",
     "text": [
      "37959\n",
      "clustering coefficient after nodes removed 0.5797188730577089\n"
     ]
    }
   ],
   "source": [
    "G4=G.copy()\n",
    "#removing twenty five percent nodes randomly\n",
    "twentyfive_per=int(0.25*G4.number_of_nodes())\n",
    "original_edges=G4.number_of_edges()\n",
    "for _ in range(twentyfive_per):\n",
    "    a=random.choice(list(G4.nodes()))\n",
    "    G4.remove_node(a)\n",
    "lost_edges4=original_edges-(G4.number_of_edges())\n",
    "print(lost_edges4)\n",
    "cc4=nx.average_clustering(G4)\n",
    "print(\"clustering coefficient after nodes removed\",cc4)"
   ]
  },
  {
   "cell_type": "code",
   "execution_count": 40,
   "metadata": {},
   "outputs": [
    {
     "name": "stdout",
     "output_type": "stream",
     "text": [
      "88234\n",
      "clustering coefficient after links added 0.16281954075421487\n"
     ]
    }
   ],
   "source": [
    "#random reattachment\n",
    "while lost_edges4:\n",
    "    a=random.choice(list(G4.nodes()))\n",
    "    b=random.choice(list(G4.nodes()))\n",
    "    if a!=b and G4.has_edge(a,b)!=1:\n",
    "        G4.add_edge(a,b)\n",
    "        lost_edges4-=1\n",
    "print(nx.number_of_edges(G4))\n",
    "print(\"clustering coefficient after links added\",nx.average_clustering(G4))"
   ]
  },
  {
   "cell_type": "code",
   "execution_count": 62,
   "metadata": {},
   "outputs": [
    {
     "name": "stdout",
     "output_type": "stream",
     "text": [
      "74601\n",
      "clustering coefficient after nodes removed 0.5280821712752519\n"
     ]
    }
   ],
   "source": [
    "G5=G.copy()\n",
    "#removing sixty percent nodes randomly\n",
    "twentyfive_per=int(0.6*G5.number_of_nodes())\n",
    "original_edges=G5.number_of_edges()\n",
    "for _ in range(twentyfive_per):\n",
    "    a=random.choice(list(G5.nodes()))\n",
    "    G5.remove_node(a)\n",
    "lost_edges5=original_edges-(G5.number_of_edges())\n",
    "print(lost_edges5)\n",
    "cc5=nx.average_clustering(G5)\n",
    "print(\"clustering coefficient after nodes removed\",cc5)"
   ]
  },
  {
   "cell_type": "code",
   "execution_count": 58,
   "metadata": {},
   "outputs": [
    {
     "name": "stdout",
     "output_type": "stream",
     "text": [
      "88234\n",
      "clustering coefficient after links added 0.08455690768050875\n"
     ]
    }
   ],
   "source": [
    "#random reattachment\n",
    "while lost_edges5:\n",
    "    a=random.choice(list(G5.nodes()))\n",
    "    b=random.choice(list(G5.nodes()))\n",
    "    if a!=b and G5.has_edge(a,b)!=1:\n",
    "        G5.add_edge(a,b)\n",
    "        lost_edges5-=1\n",
    "print(nx.number_of_edges(G5))\n",
    "print(\"clustering coefficient after links added\",nx.average_clustering(G5))"
   ]
  },
  {
   "cell_type": "code",
   "execution_count": null,
   "metadata": {},
   "outputs": [],
   "source": []
  }
 ],
 "metadata": {
  "kernelspec": {
   "display_name": "Python 3 (ipykernel)",
   "language": "python",
   "name": "python3"
  },
  "language_info": {
   "codemirror_mode": {
    "name": "ipython",
    "version": 3
   },
   "file_extension": ".py",
   "mimetype": "text/x-python",
   "name": "python",
   "nbconvert_exporter": "python",
   "pygments_lexer": "ipython3",
   "version": "3.8.5"
  }
 },
 "nbformat": 4,
 "nbformat_minor": 4
}
