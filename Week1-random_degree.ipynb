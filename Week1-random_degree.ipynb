{
 "cells": [
  {
   "cell_type": "code",
   "execution_count": 1,
   "metadata": {},
   "outputs": [],
   "source": [
    "import networkx as nx\n",
    "from random import uniform, random, choice, sample, randint\n",
    "import matplotlib.pyplot as plt\n",
    "import random\n",
    "import csv"
   ]
  },
  {
   "cell_type": "code",
   "execution_count": 2,
   "metadata": {},
   "outputs": [
    {
     "name": "stdout",
     "output_type": "stream",
     "text": [
      "The original clustering coefficient 0.6055467186200876\n",
      "Number of edges before removal 88234\n",
      "clustering coefficient before removal 0.6055467186200876\n",
      "clustering coefficient after removal 0.5365191436087824\n",
      "lost edges are: 10885\n"
     ]
    }
   ],
   "source": [
    "G=nx.read_edgelist(\"C:\\\\Users\\\\prash\\\\OneDrive\\\\Desktop\\\\CS599\\\\facebook_combined.txt\",nodetype=int)\n",
    "G1=G.copy()\n",
    "print(\"The original clustering coefficient\",nx.average_clustering(G1))\n",
    "original_edges=G1.number_of_edges()\n",
    "print(\"Number of edges before removal\",original_edges)\n",
    "#removing the 1% of nodes randomly\n",
    "a=int(0.01*G1.number_of_nodes())\n",
    "degrees=G1.degree()\n",
    "#list of tuples where the tuple is having (node and degree)\n",
    "nodes=sorted(degrees,key=lambda x:x[1],reverse=True)\n",
    "for i in range(a):\n",
    "    G1.remove_node(nodes[i][0])\n",
    "print(\"clustering coefficient after removal\",nx.average_clustering(G1))\n",
    "lost_edges=original_edges-(nx.number_of_edges(G1))\n",
    "print(\"lost edges are:\",lost_edges)"
   ]
  },
  {
   "cell_type": "code",
   "execution_count": 3,
   "metadata": {},
   "outputs": [
    {
     "name": "stdout",
     "output_type": "stream",
     "text": [
      "88234\n",
      "clustering coefficient after links attached randomly 0.3317170453139864\n"
     ]
    }
   ],
   "source": [
    "#degree based reattachment\n",
    "while lost_edges:\n",
    "    #select the nodes randomly from the list\n",
    "    a=random.choice(list(G1.nodes()))\n",
    "    b=random.choice(list(G1.nodes()))\n",
    "    #select two different nodes if they don't have an edge.\n",
    "    if a!=b and G1.has_edge(a,b)!=1:\n",
    "        #add edge\n",
    "        G1.add_edge(a,b)\n",
    "        lost_edges-=1 \n",
    "#we added the lost edges\n",
    "print(nx.number_of_edges(G1))\n",
    "print(\"clustering coefficient after links attached randomly\",nx.average_clustering(G1))"
   ]
  },
  {
   "cell_type": "code",
   "execution_count": 4,
   "metadata": {},
   "outputs": [
    {
     "name": "stdout",
     "output_type": "stream",
     "text": [
      "The original clustering coefficient 0.6055467186200876\n",
      "Number of edges before removal 88234\n",
      "clustering coefficient before removal 0.6055467186200876\n",
      "clustering coefficient after removal 0.5092367116483324\n",
      "lost edges are: 30412\n"
     ]
    }
   ],
   "source": [
    "G2=G.copy()\n",
    "print(\"The original clustering coefficient\",nx.average_clustering(G2))\n",
    "original_edges=G2.number_of_edges()\n",
    "print(\"Number of edges before removal\",original_edges)\n",
    "#removing the 5% of nodes randomly\n",
    "a=int(0.05*G2.number_of_nodes())\n",
    "degrees=G2.degree()\n",
    "#list of tuples where the tuple is having (node and degree)\n",
    "nodes=sorted(degrees,key=lambda x:x[1],reverse=True)\n",
    "for i in range(a):\n",
    "    G2.remove_node(nodes[i][0])\n",
    "print(\"clustering coefficient after removal\",nx.average_clustering(G2))\n",
    "lost_edges2=original_edges-(nx.number_of_edges(G2))\n",
    "print(\"lost edges are:\",lost_edges2)"
   ]
  },
  {
   "cell_type": "code",
   "execution_count": 12,
   "metadata": {},
   "outputs": [
    {
     "name": "stdout",
     "output_type": "stream",
     "text": [
      "88234\n",
      "clustering coefficient after links added 0.1784347262985105\n"
     ]
    }
   ],
   "source": [
    "#degree based reattachment\n",
    "while lost_edges2:\n",
    "    a=random.choice(list(G2.nodes()))\n",
    "    b=random.choice(list(G2.nodes()))\n",
    "    if a!=b and G2.has_edge(a,b)!=1:\n",
    "        G2.add_edge(a,b)\n",
    "        lost_edges2-=1\n",
    "print(nx.number_of_edges(G2))\n",
    "print(\"clustering coefficient after links added\",nx.average_clustering(G2))"
   ]
  },
  {
   "cell_type": "code",
   "execution_count": 6,
   "metadata": {},
   "outputs": [
    {
     "name": "stdout",
     "output_type": "stream",
     "text": [
      "The original clustering coefficient 0.6055467186200876\n",
      "clustering coefficient after nodes removed 0.49865588874700717\n",
      "lost edges are: 43858\n"
     ]
    }
   ],
   "source": [
    "G3=G.copy()\n",
    "print(\"The original clustering coefficient\",nx.average_clustering(G3))\n",
    "original_edges=G3.number_of_edges()\n",
    "#removing the 10% of nodes randomly\n",
    "a=int(0.1*G3.number_of_nodes())\n",
    "degrees=G3.degree()\n",
    "#list of tuples where the tuple is having (node and degree)\n",
    "nodes=sorted(degrees,key=lambda x:x[1],reverse=True)\n",
    "for i in range(a):\n",
    "    G3.remove_node(nodes[i][0])\n",
    "cc3=nx.average_clustering(G3)\n",
    "lost_edges3=original_edges-(nx.number_of_edges(G3))\n",
    "print(\"clustering coefficient after nodes removed\",cc3)\n",
    "print(\"lost edges are:\",lost_edges3)"
   ]
  },
  {
   "cell_type": "code",
   "execution_count": 13,
   "metadata": {},
   "outputs": [
    {
     "name": "stdout",
     "output_type": "stream",
     "text": [
      "88234\n",
      "clustering coefficient after links added 0.11694792253583755\n"
     ]
    }
   ],
   "source": [
    "#degree based reattachment\n",
    "while lost_edges3:\n",
    "    a=random.choice(list(G3.nodes()))\n",
    "    b=random.choice(list(G3.nodes()))\n",
    "    if a!=b and G3.has_edge(a,b)!=1:\n",
    "        G3.add_edge(a,b)\n",
    "        lost_edges3-=1\n",
    "print(nx.number_of_edges(G3))\n",
    "print(\"clustering coefficient after links added\",nx.average_clustering(G3))"
   ]
  },
  {
   "cell_type": "code",
   "execution_count": 8,
   "metadata": {},
   "outputs": [
    {
     "name": "stdout",
     "output_type": "stream",
     "text": [
      "The original clustering coefficient 0.6055467186200876\n",
      "clustering coefficient after nodes removed 0.4607148674541649\n",
      "lost edges are: 67838\n"
     ]
    }
   ],
   "source": [
    "G4=G.copy()\n",
    "print(\"The original clustering coefficient\",nx.average_clustering(G))\n",
    "#removing the 25% of nodes randomly\n",
    "original_edges=G4.number_of_edges()\n",
    "a=int(0.25*G4.number_of_nodes())\n",
    "degrees=G4.degree()\n",
    "#list of tuples where the tuple is having (node and degree)\n",
    "nodes=sorted(degrees,key=lambda x:x[1],reverse=True)\n",
    "for i in range(a):\n",
    "    G4.remove_node(nodes[i][0])\n",
    "cc4=nx.average_clustering(G4)\n",
    "print(\"clustering coefficient after nodes removed\",cc4)\n",
    "lost_edges4=original_edges-(nx.number_of_edges(G4))\n",
    "print(\"lost edges are:\",lost_edges4)"
   ]
  },
  {
   "cell_type": "code",
   "execution_count": 9,
   "metadata": {},
   "outputs": [
    {
     "name": "stdout",
     "output_type": "stream",
     "text": [
      "88234\n",
      "clustering coefficient after links added 0.04513327674793085\n"
     ]
    }
   ],
   "source": [
    "#degree based reattachment\n",
    "while lost_edges4:\n",
    "    a=random.choice(list(G4.nodes()))\n",
    "    b=random.choice(list(G4.nodes()))\n",
    "    if a!=b and G4.has_edge(a,b)!=1:\n",
    "        G4.add_edge(a,b)\n",
    "        lost_edges4-=1\n",
    "print(nx.number_of_edges(G4))\n",
    "print(\"clustering coefficient after links added\",nx.average_clustering(G4))"
   ]
  },
  {
   "cell_type": "code",
   "execution_count": 10,
   "metadata": {},
   "outputs": [
    {
     "name": "stdout",
     "output_type": "stream",
     "text": [
      "The original clustering coefficient 0.6055467186200876\n",
      "clustering coefficient after nodes removed 0.3584166727112276\n",
      "lost edges are: 85315\n"
     ]
    }
   ],
   "source": [
    "G5=G.copy()\n",
    "print(\"The original clustering coefficient\",nx.average_clustering(G5))\n",
    "original_edges=G5.number_of_edges()\n",
    "#removing the 60% of nodes randomly\n",
    "a=int(0.6*G5.number_of_nodes())\n",
    "degrees=G5.degree()\n",
    "#list of tuples where the tuple is having (node and degree)\n",
    "nodes=sorted(degrees,key=lambda x:x[1],reverse=True)\n",
    "for i in range(a):\n",
    "    G5.remove_node(nodes[i][0])\n",
    "cc5=nx.average_clustering(G5)\n",
    "print(\"clustering coefficient after nodes removed\",cc5)\n",
    "lost_edges5=original_edges-(nx.number_of_edges(G5))\n",
    "print(\"lost edges are:\",lost_edges5)"
   ]
  },
  {
   "cell_type": "code",
   "execution_count": 14,
   "metadata": {},
   "outputs": [
    {
     "name": "stdout",
     "output_type": "stream",
     "text": [
      "88234\n",
      "clustering coefficient after links added 0.0687474962448452\n"
     ]
    }
   ],
   "source": [
    "#degree based reattachment\n",
    "while lost_edges5:\n",
    "    a=random.choice(list(G5.nodes()))\n",
    "    b=random.choice(list(G5.nodes()))\n",
    "    if a!=b and G5.has_edge(a,b)!=1:\n",
    "        G5.add_edge(a,b)\n",
    "        lost_edges5-=1\n",
    "print(nx.number_of_edges(G5))\n",
    "print(\"clustering coefficient after links added\",nx.average_clustering(G5))"
   ]
  },
  {
   "cell_type": "code",
   "execution_count": null,
   "metadata": {},
   "outputs": [],
   "source": []
  }
 ],
 "metadata": {
  "kernelspec": {
   "display_name": "Python 3 (ipykernel)",
   "language": "python",
   "name": "python3"
  },
  "language_info": {
   "codemirror_mode": {
    "name": "ipython",
    "version": 3
   },
   "file_extension": ".py",
   "mimetype": "text/x-python",
   "name": "python",
   "nbconvert_exporter": "python",
   "pygments_lexer": "ipython3",
   "version": "3.8.5"
  }
 },
 "nbformat": 4,
 "nbformat_minor": 4
}
