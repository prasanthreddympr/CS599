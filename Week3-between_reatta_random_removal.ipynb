{
 "cells": [
  {
   "cell_type": "code",
   "execution_count": 1,
   "metadata": {},
   "outputs": [],
   "source": [
    "import networkx as nx\n",
    "from random import uniform, random, choice, sample, randint\n",
    "import networkx.algorithms.community as nx_comm\n",
    "import matplotlib.pyplot as plt\n",
    "import random\n",
    "import csv\n",
    "import operator"
   ]
  },
  {
   "cell_type": "code",
   "execution_count": 2,
   "metadata": {},
   "outputs": [
    {
     "name": "stdout",
     "output_type": "stream",
     "text": [
      "The original clustering coefficient 0.6055467186200876\n"
     ]
    }
   ],
   "source": [
    "K=nx.read_edgelist(\"C:\\\\Users\\\\prash\\\\OneDrive\\\\Desktop\\\\CS599\\\\facebook_combined.txt\")\n",
    "print(\"The original clustering coefficient\",nx.average_clustering(K))"
   ]
  },
  {
   "cell_type": "code",
   "execution_count": 3,
   "metadata": {},
   "outputs": [],
   "source": [
    "Gcc = sorted(nx.connected_components(K), key=len, reverse=True)\n",
    "G = K.subgraph(Gcc[0])"
   ]
  },
  {
   "cell_type": "code",
   "execution_count": 4,
   "metadata": {},
   "outputs": [],
   "source": [
    "neighbors_set=set()\n",
    "removed_nodes=set()"
   ]
  },
  {
   "cell_type": "code",
   "execution_count": 5,
   "metadata": {},
   "outputs": [],
   "source": [
    "G=nx.read_edgelist(\"C:\\\\Users\\\\prash\\\\OneDrive\\\\Desktop\\\\CS599\\\\facebook_combined.txt\",nodetype=int)\n",
    "G1=G.copy()\n",
    "original_edges=G1.number_of_edges()\n",
    "#removing the 1% of nodes randomly\n",
    "#list of tuples where the tuple is having (node and degree)\n",
    "for i in range(int(0.01*G1.number_of_nodes())):\n",
    "    G1.remove_node(random.choice(list(G1.nodes())))\n",
    "lost_edges=original_edges-(nx.number_of_edges(G1))"
   ]
  },
  {
   "cell_type": "code",
   "execution_count": 6,
   "metadata": {},
   "outputs": [],
   "source": [
    "betweenness1=nx.betweenness_centrality(G1)\n",
    "nodes1=dict(sorted(betweenness1.items(), key=operator.itemgetter(1),reverse=True))"
   ]
  },
  {
   "cell_type": "code",
   "execution_count": 7,
   "metadata": {},
   "outputs": [
    {
     "name": "stdout",
     "output_type": "stream",
     "text": [
      "clustering coefficient after links attached on betweenness basis 0.5605006825261052\n",
      "shortest path is  3.224252536370711\n"
     ]
    }
   ],
   "source": [
    "while lost_edges:\n",
    "    #select the nodes randomly from the list\n",
    "    a=random.choice(list(G1.nodes()))\n",
    "    b=random.choice(list(G1.nodes()))\n",
    "    #select two different nodes if they don't have an edge.\n",
    "    if a!=b and G1.has_edge(a,b)!=1:\n",
    "        #add edge\n",
    "        G1.add_edge(a,b)\n",
    "        lost_edges-=1 \n",
    "\n",
    "print(\"clustering coefficient after links attached on betweenness basis\",nx.average_clustering(G1))\n",
    "print(\"shortest path is \",nx.average_shortest_path_length(G1))"
   ]
  },
  {
   "cell_type": "code",
   "execution_count": 8,
   "metadata": {},
   "outputs": [],
   "source": [
    "neighbors_set2=set()\n",
    "removed_nodes2=set()"
   ]
  },
  {
   "cell_type": "code",
   "execution_count": 9,
   "metadata": {},
   "outputs": [],
   "source": [
    "G2=G.copy()\n",
    "\n",
    "\n",
    "\n",
    "#removing the 5% of nodes randomly\n",
    "for i in range(int(0.05*G2.number_of_nodes())):\n",
    "    G2.remove_node(random.choice(list(G2.nodes())))\n",
    "\n",
    "               \n",
    "lost_edges2=original_edges-(nx.number_of_edges(G2))\n"
   ]
  },
  {
   "cell_type": "code",
   "execution_count": 10,
   "metadata": {},
   "outputs": [],
   "source": [
    "betweenness2=nx.betweenness_centrality(G2)\n",
    "nodes2=dict(sorted(betweenness2.items(), key=operator.itemgetter(1),reverse=True))"
   ]
  },
  {
   "cell_type": "code",
   "execution_count": 11,
   "metadata": {},
   "outputs": [
    {
     "name": "stdout",
     "output_type": "stream",
     "text": [
      "clustering coefficient after links attached on betweenness basis 0.407002829533261\n",
      "shortest path is  2.827534294518296\n"
     ]
    }
   ],
   "source": [
    "while lost_edges2:\n",
    "    a=random.choice(list(G2.nodes()))\n",
    "    b=random.choice(list(G2.nodes()))\n",
    "    if a!=b and G2.has_edge(a,b)!=1:\n",
    "        G2.add_edge(a,b)\n",
    "        lost_edges2-=1\n",
    "\n",
    "\n",
    "\n",
    "print(\"clustering coefficient after links attached on betweenness basis\",nx.average_clustering(G2))\n",
    "print(\"shortest path is \",nx.average_shortest_path_length(G2))"
   ]
  },
  {
   "cell_type": "code",
   "execution_count": 12,
   "metadata": {},
   "outputs": [],
   "source": [
    "neighbors_set3=set()\n",
    "removed_nodes3=set()"
   ]
  },
  {
   "cell_type": "code",
   "execution_count": 13,
   "metadata": {},
   "outputs": [],
   "source": [
    "G3=G.copy()\n",
    "#removing the 10% of nodes randomly\n",
    "for i in range(int(0.1*G3.number_of_nodes())):\n",
    "    G3.remove_node(random.choice(list(G3.nodes())))\n",
    "cc3=nx.average_clustering(G3)\n",
    "lost_edges3=original_edges-(nx.number_of_edges(G3))\n"
   ]
  },
  {
   "cell_type": "code",
   "execution_count": 14,
   "metadata": {},
   "outputs": [],
   "source": [
    "betweenness3=nx.betweenness_centrality(G3)\n",
    "nodes3=dict(sorted(betweenness3.items(), key=operator.itemgetter(1),reverse=True))"
   ]
  },
  {
   "cell_type": "code",
   "execution_count": 15,
   "metadata": {},
   "outputs": [
    {
     "name": "stdout",
     "output_type": "stream",
     "text": [
      "clustering coefficient after links attached on betweenness basis 0.28755617239814657\n",
      "shortest path is  2.6538460723651456\n"
     ]
    }
   ],
   "source": [
    "while lost_edges3:\n",
    "    a=random.choice(list(G3.nodes()))\n",
    "    b=random.choice(list(G3.nodes()))\n",
    "    if a!=b and G3.has_edge(a,b)!=1:\n",
    "        G3.add_edge(a,b)\n",
    "        lost_edges3-=1\n",
    "\n",
    "\n",
    "print(\"clustering coefficient after links attached on betweenness basis\",nx.average_clustering(G3))\n",
    "print(\"shortest path is \",nx.average_shortest_path_length(G3))"
   ]
  },
  {
   "cell_type": "code",
   "execution_count": 16,
   "metadata": {},
   "outputs": [],
   "source": [
    "neighbors_set4=set()\n",
    "removed_nodes4=set()"
   ]
  },
  {
   "cell_type": "code",
   "execution_count": 17,
   "metadata": {},
   "outputs": [],
   "source": [
    "G4=G.copy()\n",
    "\n",
    "\n",
    "\n",
    "\n",
    "\n",
    "#removing the 25% of nodes randomly\n",
    "for i in range(int(0.25*G4.number_of_nodes())):\n",
    "    G4.remove_node(random.choice(list(G4.nodes())))\n",
    "               \n",
    "               \n",
    "lost_edges4=original_edges-(nx.number_of_edges(G4))\n"
   ]
  },
  {
   "cell_type": "code",
   "execution_count": 18,
   "metadata": {},
   "outputs": [],
   "source": [
    "betweenness4=nx.betweenness_centrality(G4)\n",
    "nodes4=dict(sorted(betweenness4.items(), key=operator.itemgetter(1),reverse=True))"
   ]
  },
  {
   "cell_type": "code",
   "execution_count": 19,
   "metadata": {},
   "outputs": [
    {
     "name": "stdout",
     "output_type": "stream",
     "text": [
      "clustering coefficient after links attached on betweenness basis 0.15513334129644618\n",
      "shortest path is  2.4166781617085444\n"
     ]
    }
   ],
   "source": [
    "while lost_edges4:\n",
    "    a=random.choice(list(G4.nodes()))\n",
    "    b=random.choice(list(G4.nodes()))\n",
    "    if a!=b and G4.has_edge(a,b)!=1:\n",
    "        G4.add_edge(a,b)\n",
    "        lost_edges4-=1\n",
    "\n",
    "print(\"clustering coefficient after links attached on betweenness basis\",nx.average_clustering(G4))\n",
    "print(\"shortest path is \",nx.average_shortest_path_length(G4))"
   ]
  },
  {
   "cell_type": "code",
   "execution_count": 20,
   "metadata": {},
   "outputs": [],
   "source": [
    "neighbors_set5=set()\n",
    "removed_nodes5=set()"
   ]
  },
  {
   "cell_type": "code",
   "execution_count": 21,
   "metadata": {},
   "outputs": [],
   "source": [
    "G5=G.copy()\n",
    "\n",
    "\n",
    "\n",
    "#removing the 60% of nodes randomly\n",
    "for i in range(int(0.6*G5.number_of_nodes())):\n",
    "    G5.remove_node(random.choice(list(G5.nodes())))\n",
    "\n",
    "lost_edges5=original_edges-(nx.number_of_edges(G5))\n"
   ]
  },
  {
   "cell_type": "code",
   "execution_count": 22,
   "metadata": {},
   "outputs": [],
   "source": [
    "betweenness5=nx.betweenness_centrality(G5)\n",
    "nodes5=dict(sorted(betweenness5.items(), key=operator.itemgetter(1),reverse=True))"
   ]
  },
  {
   "cell_type": "code",
   "execution_count": 23,
   "metadata": {},
   "outputs": [
    {
     "name": "stdout",
     "output_type": "stream",
     "text": [
      "clustering coefficient after links attached on betweenness  basis 0.0871706673406935\n",
      "shortest path is  1.9336250498114826\n"
     ]
    }
   ],
   "source": [
    "while lost_edges5:\n",
    "    a=random.choice(list(G5.nodes()))\n",
    "    b=random.choice(list(G5.nodes()))\n",
    "    if a!=b and G5.has_edge(a,b)!=1:\n",
    "        G5.add_edge(a,b)\n",
    "        lost_edges5-=1\n",
    "\n",
    "        \n",
    "print(\"clustering coefficient after links attached on betweenness  basis\",nx.average_clustering(G5))\n",
    "print(\"shortest path is \",nx.average_shortest_path_length(G5))"
   ]
  },
  {
   "cell_type": "code",
   "execution_count": null,
   "metadata": {},
   "outputs": [],
   "source": []
  }
 ],
 "metadata": {
  "kernelspec": {
   "display_name": "Python 3 (ipykernel)",
   "language": "python",
   "name": "python3"
  },
  "language_info": {
   "codemirror_mode": {
    "name": "ipython",
    "version": 3
   },
   "file_extension": ".py",
   "mimetype": "text/x-python",
   "name": "python",
   "nbconvert_exporter": "python",
   "pygments_lexer": "ipython3",
   "version": "3.8.5"
  }
 },
 "nbformat": 4,
 "nbformat_minor": 4
}
