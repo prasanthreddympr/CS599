{
 "cells": [
  {
   "cell_type": "code",
   "execution_count": 1,
   "metadata": {},
   "outputs": [],
   "source": [
    "from random import random, choice, sample, randint \n",
    "import networkx.algorithms.community as nx_comm \n",
    "import matplotlib.pyplot as plt \n",
    "import random \n",
    "import csv\n",
    "import networkx as nx"
   ]
  },
  {
   "cell_type": "code",
   "execution_count": 2,
   "metadata": {},
   "outputs": [
    {
     "name": "stdout",
     "output_type": "stream",
     "text": [
      "The original clustering coefficient 0.6055467186200876\n",
      "shortest path is  3.6925068496963913\n"
     ]
    }
   ],
   "source": [
    "G=nx.read_edgelist(\"C:\\\\Users\\\\prash\\\\OneDrive\\\\Desktop\\\\CS599\\\\facebook_combined.txt\")\n",
    "print(\"The original clustering coefficient\",nx.average_clustering(G))\n",
    "print(\"shortest path is \",nx.average_shortest_path_length(G))"
   ]
  },
  {
   "cell_type": "code",
   "execution_count": 3,
   "metadata": {},
   "outputs": [],
   "source": [
    "original_edges=nx.number_of_edges(G)"
   ]
  },
  {
   "cell_type": "code",
   "execution_count": 4,
   "metadata": {},
   "outputs": [],
   "source": [
    "neighbors_set=set()\n",
    "removed_nodes=set()"
   ]
  },
  {
   "cell_type": "code",
   "execution_count": 5,
   "metadata": {},
   "outputs": [],
   "source": [
    "G1=G.copy()\n",
    "\n",
    "degrees=G1.degree()\n",
    "nodes1=sorted(degrees,key=lambda x:x[1],reverse=True)\n",
    "#list of tuples where the tuple is having (node and degree)\n",
    "#removing the top 1% of nodes\n",
    "for i in range(int(0.01*G1.number_of_nodes())):\n",
    "    a=nodes1[i][0]\n",
    "    for s in G1.neighbors(a):\n",
    "        if s not in neighbors_set:\n",
    "            neighbors_set.add(s)\n",
    "    removed_nodes.add(a)\n",
    "    G1.remove_node(a)\n",
    "    \n",
    "    \n",
    "lost_edges=original_edges-(nx.number_of_edges(G1))\n",
    "\n",
    "remaining_nodes=neighbors_set-removed_nodes\n",
    "\n"
   ]
  },
  {
   "cell_type": "code",
   "execution_count": 6,
   "metadata": {},
   "outputs": [
    {
     "name": "stdout",
     "output_type": "stream",
     "text": [
      "107\n"
     ]
    }
   ],
   "source": [
    "betweenness = nx.centrality.betweenness_centrality(G)\n",
    "highest_betweenness_node = max(G.nodes, key=betweenness.get)\n",
    "print(highest_betweenness_node)"
   ]
  },
  {
   "cell_type": "code",
   "execution_count": 6,
   "metadata": {},
   "outputs": [
    {
     "name": "stdout",
     "output_type": "stream",
     "text": [
      "clustering coefficient after links attached on degree basis 0.33212286542595915\n",
      "shortest path is  3.0037094065912675\n"
     ]
    }
   ],
   "source": [
    "while lost_edges:\n",
    "    #select the nodes randomly from the list\n",
    "    a=random.choice(list(G1.nodes()))\n",
    "    b=random.choice(list(G1.nodes()))\n",
    "    #select two different nodes if they don't have an edge.\n",
    "    if a!=b and G1.has_edge(a,b)!=1:\n",
    "        #add edge\n",
    "        G1.add_edge(a,b)\n",
    "        lost_edges-=1  \n",
    "\n",
    "print(\"clustering coefficient after links attached on degree basis\",nx.average_clustering(G1))\n",
    "\n",
    "print(\"shortest path is \",nx.average_shortest_path_length(G1))"
   ]
  },
  {
   "cell_type": "code",
   "execution_count": 7,
   "metadata": {},
   "outputs": [],
   "source": [
    "neighbors_set2=set()\n",
    "removed_nodes2=set()"
   ]
  },
  {
   "cell_type": "code",
   "execution_count": 8,
   "metadata": {},
   "outputs": [],
   "source": [
    "G2=G.copy()\n",
    "\n",
    "degrees2=G2.degree()\n",
    "nodes2=sorted(degrees,key=lambda x:x[1],reverse=True)\n",
    "#list of tuples where the tuple is having (node and degree)\n",
    "#removing the top 1% of nodes\n",
    "for i in range(int(0.01*G2.number_of_nodes())):\n",
    "    a=nodes2[i][0]\n",
    "    for s in G2.neighbors(a):\n",
    "        if s not in neighbors_set2:\n",
    "            neighbors_set2.add(s)\n",
    "    removed_nodes2.add(a)\n",
    "    G2.remove_node(a)\n",
    "    \n",
    "    \n",
    "lost_edges2=original_edges-(nx.number_of_edges(G2))\n",
    "remaining_nodes2=neighbors_set2-removed_nodes2\n"
   ]
  },
  {
   "cell_type": "code",
   "execution_count": 9,
   "metadata": {},
   "outputs": [
    {
     "name": "stdout",
     "output_type": "stream",
     "text": [
      "clustering coefficient after links attached on degree basis 0.41398755163447604\n",
      "shortest path is  2.851336520973665\n"
     ]
    }
   ],
   "source": [
    "while lost_edges2:\n",
    "    a=random.choice(list(G2.nodes()))\n",
    "    b=random.choice(list(G2.nodes()))\n",
    "    if a!=b and G2.has_edge(a,b)!=1:\n",
    "        G2.add_edge(a,b)\n",
    "        lost_edges2-=1\n",
    "\n",
    "        \n",
    "print(\"clustering coefficient after links attached on degree basis\",nx.average_clustering(G2))\n",
    "\n",
    "print(\"shortest path is \",nx.average_shortest_path_length(G2))"
   ]
  },
  {
   "cell_type": "code",
   "execution_count": 10,
   "metadata": {},
   "outputs": [],
   "source": [
    "neighbors_set3=set()\n",
    "removed_nodes3=set()"
   ]
  },
  {
   "cell_type": "code",
   "execution_count": 11,
   "metadata": {},
   "outputs": [],
   "source": [
    "G3=G.copy()\n",
    "\n",
    "degrees3=G3.degree()\n",
    "nodes3=sorted(degrees,key=lambda x:x[1],reverse=True)\n",
    "#list of tuples where the tuple is having (node and degree)\n",
    "#removing the top 1% of nodes\n",
    "for i in range(int(0.01*G3.number_of_nodes())):\n",
    "    a=nodes3[i][0]\n",
    "    for s in G3.neighbors(a):\n",
    "        if s not in neighbors_set3:\n",
    "            neighbors_set3.add(s)\n",
    "    removed_nodes3.add(a)\n",
    "    G3.remove_node(a)\n",
    "    \n",
    "    \n",
    "lost_edges3=original_edges-(nx.number_of_edges(G3))\n",
    "\n",
    "remaining_nodes3=neighbors_set3-removed_nodes3\n"
   ]
  },
  {
   "cell_type": "code",
   "execution_count": 12,
   "metadata": {},
   "outputs": [
    {
     "name": "stdout",
     "output_type": "stream",
     "text": [
      "88234\n",
      "clustering coefficient after links attached on degree basis 0.4140269075897114\n",
      "shortest path is  2.8532452022460344\n"
     ]
    }
   ],
   "source": [
    "while lost_edges3:\n",
    "    a=random.choice(list(G3.nodes()))\n",
    "    b=random.choice(list(G3.nodes()))\n",
    "    if a!=b and G3.has_edge(a,b)!=1:\n",
    "        G3.add_edge(a,b)\n",
    "        lost_edges3-=1\n",
    "print(nx.number_of_edges(G3))\n",
    "\n",
    "\n",
    "print(\"clustering coefficient after links attached on degree basis\",nx.average_clustering(G3))\n",
    "\n",
    "print(\"shortest path is \",nx.average_shortest_path_length(G3))"
   ]
  },
  {
   "cell_type": "code",
   "execution_count": 13,
   "metadata": {},
   "outputs": [],
   "source": [
    "neighbors_set4=set()\n",
    "removed_nodes4=set()"
   ]
  },
  {
   "cell_type": "code",
   "execution_count": 14,
   "metadata": {},
   "outputs": [],
   "source": [
    "G4=G.copy()\n",
    "\n",
    "degrees4=G4.degree()\n",
    "nodes4=sorted(degrees,key=lambda x:x[1],reverse=True)\n",
    "#list of tuples where the tuple is having (node and degree)\n",
    "#removing the top 1% of nodes\n",
    "for i in range(int(0.01*G4.number_of_nodes())):\n",
    "    a=nodes4[i][0]\n",
    "    for s in G4.neighbors(a):\n",
    "        if s not in neighbors_set4:\n",
    "            neighbors_set4.add(s)\n",
    "    removed_nodes4.add(a)\n",
    "    G4.remove_node(a)\n",
    "    \n",
    "    \n",
    "lost_edges4=original_edges-(nx.number_of_edges(G4))\n",
    "\n",
    "remaining_nodes4=neighbors_set4-removed_nodes4\n"
   ]
  },
  {
   "cell_type": "code",
   "execution_count": 15,
   "metadata": {},
   "outputs": [
    {
     "name": "stdout",
     "output_type": "stream",
     "text": [
      "clustering coefficient after links attached on degree basis 0.41430950354244195\n",
      "shortest path is  2.8488387729748847\n"
     ]
    }
   ],
   "source": [
    "while lost_edges4:\n",
    "    a=random.choice(list(G4.nodes()))\n",
    "    b=random.choice(list(G4.nodes()))\n",
    "    if a!=b and G4.has_edge(a,b)!=1:\n",
    "        G4.add_edge(a,b)\n",
    "        lost_edges4-=1\n",
    "\n",
    "print(\"clustering coefficient after links attached on degree basis\",nx.average_clustering(G4))\n",
    "\n",
    "print(\"shortest path is \",nx.average_shortest_path_length(G4))"
   ]
  },
  {
   "cell_type": "code",
   "execution_count": 16,
   "metadata": {},
   "outputs": [],
   "source": [
    "neighbors_set5=set()\n",
    "removed_nodes5=set()"
   ]
  },
  {
   "cell_type": "code",
   "execution_count": 17,
   "metadata": {},
   "outputs": [],
   "source": [
    "G5=G.copy()\n",
    "\n",
    "degrees5=G5.degree()\n",
    "nodes5=sorted(degrees5,key=lambda x:x[1],reverse=True)\n",
    "#list of tuples where the tuple is having (node and degree)\n",
    "#removing the top 1% of nodes\n",
    "for i in range(int(0.01*G5.number_of_nodes())):\n",
    "    a=nodes5[i][0]\n",
    "    for s in G5.neighbors(a):\n",
    "        if s not in neighbors_set5:\n",
    "            neighbors_set5.add(s)\n",
    "    removed_nodes5.add(a)\n",
    "    G5.remove_node(a)\n",
    "    \n",
    "    \n",
    "lost_edges5=original_edges-(nx.number_of_edges(G5))\n",
    "\n",
    "remaining_nodes5=neighbors_set5-removed_nodes5\n"
   ]
  },
  {
   "cell_type": "code",
   "execution_count": 18,
   "metadata": {},
   "outputs": [
    {
     "name": "stdout",
     "output_type": "stream",
     "text": [
      "clustering coefficient after links attached on degree basis 0.3318341010861461\n",
      "shortest path is  3.002554540586122\n"
     ]
    }
   ],
   "source": [
    "while lost_edges5:\n",
    "    a=random.choice(list(G5.nodes()))\n",
    "    b=random.choice(list(G5.nodes()))\n",
    "    if a!=b and G5.has_edge(a,b)!=1:\n",
    "        G5.add_edge(a,b)\n",
    "        lost_edges5-=1\n",
    "\n",
    "print(\"clustering coefficient after links attached on degree basis\",nx.average_clustering(G5))\n",
    "\n",
    "print(\"shortest path is \",nx.average_shortest_path_length(G5))"
   ]
  },
  {
   "cell_type": "code",
   "execution_count": null,
   "metadata": {},
   "outputs": [],
   "source": []
  },
  {
   "cell_type": "code",
   "execution_count": null,
   "metadata": {},
   "outputs": [],
   "source": []
  },
  {
   "cell_type": "code",
   "execution_count": null,
   "metadata": {},
   "outputs": [],
   "source": []
  }
 ],
 "metadata": {
  "kernelspec": {
   "display_name": "Python 3 (ipykernel)",
   "language": "python",
   "name": "python3"
  },
  "language_info": {
   "codemirror_mode": {
    "name": "ipython",
    "version": 3
   },
   "file_extension": ".py",
   "mimetype": "text/x-python",
   "name": "python",
   "nbconvert_exporter": "python",
   "pygments_lexer": "ipython3",
   "version": "3.8.5"
  }
 },
 "nbformat": 4,
 "nbformat_minor": 4
}
